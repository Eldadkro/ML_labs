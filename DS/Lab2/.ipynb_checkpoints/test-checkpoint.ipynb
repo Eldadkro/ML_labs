{
 "metadata": {
  "language_info": {
   "codemirror_mode": {
    "name": "ipython",
    "version": 3
   },
   "file_extension": ".py",
   "mimetype": "text/x-python",
   "name": "python",
   "nbconvert_exporter": "python",
   "pygments_lexer": "ipython3",
   "version": "3.8.5-final"
  },
  "orig_nbformat": 2,
  "kernelspec": {
   "name": "Python 3.8.5 64-bit",
   "display_name": "Python 3.8.5 64-bit",
   "metadata": {
    "interpreter": {
     "hash": "1baa965d5efe3ac65b79dfc60c0d706280b1da80fedb7760faf2759126c4f253"
    }
   }
  }
 },
 "nbformat": 4,
 "nbformat_minor": 2,
 "cells": [
  {
   "source": [
    "# this is my first notebook \n",
    "\n",
    "latex: \n",
    "$$ \n",
    "NegEnt = \\sum x \\log x \n",
    "$$"
   ],
   "cell_type": "markdown",
   "metadata": {}
  },
  {
   "cell_type": "code",
   "execution_count": 1,
   "metadata": {},
   "outputs": [
    {
     "output_type": "stream",
     "name": "stdout",
     "text": [
      "[[1.30597419e-311 1.30597418e-311]\n [1.30597419e-311 1.30597419e-311]]\n"
     ]
    }
   ],
   "source": [
    "import numpy as np\n",
    "print(np.empty((2,2)))"
   ]
  },
  {
   "source": [
    "# text "
   ],
   "cell_type": "markdown",
   "metadata": {}
  },
  {
   "source": [
    "\n",
    "this is mark down "
   ],
   "cell_type": "markdown",
   "metadata": {}
  },
  {
   "source": [
    "Pip install jupyterlabthis is another mark down text and this create the markdown file needed"
   ],
   "cell_type": "markdown",
   "metadata": {}
  },
  {
   "source": [
    "$ x\\log x + y\\sum^{3}_{4}$"
   ],
   "cell_type": "markdown",
   "metadata": {}
  },
  {
   "source": [
    "# this is headlined\n",
    "\n",
    "![txt](Nents.png)\n",
    "\n",
    "\n",
    "\n"
   ],
   "cell_type": "markdown",
   "metadata": {}
  },
  {
   "source": [
    "this is more text \n",
    "*bold* a bit more text"
   ],
   "cell_type": "markdown",
   "metadata": {}
  }
 ]
}